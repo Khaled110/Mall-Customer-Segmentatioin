{
 "cells": [
  {
   "cell_type": "code",
   "execution_count": 1,
   "id": "ec16e049",
   "metadata": {},
   "outputs": [],
   "source": [
    "import numpy as np\n",
    "import pandas as pd\n",
    "import datetime\n",
    "import matplotlib\n",
    "import matplotlib.pyplot as plt\n",
    "from matplotlib import colors\n",
    "import seaborn as sns\n",
    "from sklearn.preprocessing import LabelEncoder,StandardScaler\n",
    "from sklearn.decomposition import PCA\n",
    "from sklearn.cluster import KMeans\n",
    "import matplotlib.pyplot as plt, numpy as np\n",
    "from sklearn.cluster import AgglomerativeClustering\n",
    "from sklearn.neighbors import NearestNeighbors\n",
    "from sklearn.cluster import DBSCAN\n",
    "from sklearn.mixture import GaussianMixture\n",
    "from sklearn.metrics import silhouette_score\n",
    "import scipy.cluster.hierarchy as shc\n",
    "from datetime import date\n",
    "import warnings\n",
    "import sys\n",
    "if not sys.warnoptions:\n",
    "    warnings.simplefilter(\"ignore\")\n",
    "np.random.seed(42)"
   ]
  },
  {
   "cell_type": "markdown",
   "id": "93247763",
   "metadata": {},
   "source": [
    "## Read The Dataset"
   ]
  },
  {
   "cell_type": "code",
   "execution_count": 2,
   "id": "4d351351",
   "metadata": {},
   "outputs": [
    {
     "name": "stdout",
     "output_type": "stream",
     "text": [
      "The shape of the dataset is: (2240, 29)\n"
     ]
    }
   ],
   "source": [
    "#read the data\n",
    "data_path = 'marketing_campaign_t.csv'  #the path where you downloaded the data\n",
    "df = pd.read_csv(data_path)\n",
    "\n",
    "print('The shape of the dataset is:', df.shape)"
   ]
  },
  {
   "cell_type": "markdown",
   "id": "24128df4",
   "metadata": {},
   "source": [
    "## Data Investigation"
   ]
  },
  {
   "cell_type": "code",
   "execution_count": 3,
   "id": "e8d43551",
   "metadata": {},
   "outputs": [
    {
     "name": "stdout",
     "output_type": "stream",
     "text": [
      "<class 'pandas.core.frame.DataFrame'>\n",
      "RangeIndex: 2240 entries, 0 to 2239\n",
      "Data columns (total 29 columns):\n",
      " #   Column               Non-Null Count  Dtype  \n",
      "---  ------               --------------  -----  \n",
      " 0   ID                   2240 non-null   int64  \n",
      " 1   Year_Birth           2240 non-null   int64  \n",
      " 2   Education            2240 non-null   object \n",
      " 3   Marital_Status       2240 non-null   object \n",
      " 4   Income               2216 non-null   float64\n",
      " 5   Kidhome              2240 non-null   int64  \n",
      " 6   Teenhome             2240 non-null   int64  \n",
      " 7   Dt_Customer          2240 non-null   object \n",
      " 8   Recency              2240 non-null   int64  \n",
      " 9   MntWines             2240 non-null   int64  \n",
      " 10  MntFruits            2240 non-null   int64  \n",
      " 11  MntMeatProducts      2240 non-null   int64  \n",
      " 12  MntFishProducts      2240 non-null   int64  \n",
      " 13  MntSweetProducts     2240 non-null   int64  \n",
      " 14  MntGoldProds         2240 non-null   int64  \n",
      " 15  NumDealsPurchases    2240 non-null   int64  \n",
      " 16  NumWebPurchases      2240 non-null   int64  \n",
      " 17  NumCatalogPurchases  2240 non-null   int64  \n",
      " 18  NumStorePurchases    2240 non-null   int64  \n",
      " 19  NumWebVisitsMonth    2240 non-null   int64  \n",
      " 20  AcceptedCmp3         2240 non-null   int64  \n",
      " 21  AcceptedCmp4         2240 non-null   int64  \n",
      " 22  AcceptedCmp5         2240 non-null   int64  \n",
      " 23  AcceptedCmp1         2240 non-null   int64  \n",
      " 24  AcceptedCmp2         2240 non-null   int64  \n",
      " 25  Complain             2240 non-null   int64  \n",
      " 26  Z_CostContact        2240 non-null   int64  \n",
      " 27  Z_Revenue            2240 non-null   int64  \n",
      " 28  Response             2240 non-null   int64  \n",
      "dtypes: float64(1), int64(25), object(3)\n",
      "memory usage: 507.6+ KB\n"
     ]
    }
   ],
   "source": [
    "df.info()"
   ]
  },
  {
   "cell_type": "code",
   "execution_count": 4,
   "id": "711a5039",
   "metadata": {},
   "outputs": [
    {
     "data": {
      "text/html": [
       "<div>\n",
       "<style scoped>\n",
       "    .dataframe tbody tr th:only-of-type {\n",
       "        vertical-align: middle;\n",
       "    }\n",
       "\n",
       "    .dataframe tbody tr th {\n",
       "        vertical-align: top;\n",
       "    }\n",
       "\n",
       "    .dataframe thead th {\n",
       "        text-align: right;\n",
       "    }\n",
       "</style>\n",
       "<table border=\"1\" class=\"dataframe\">\n",
       "  <thead>\n",
       "    <tr style=\"text-align: right;\">\n",
       "      <th></th>\n",
       "      <th>ID</th>\n",
       "      <th>Year_Birth</th>\n",
       "      <th>Income</th>\n",
       "      <th>Kidhome</th>\n",
       "      <th>Teenhome</th>\n",
       "      <th>Recency</th>\n",
       "      <th>MntWines</th>\n",
       "      <th>MntFruits</th>\n",
       "      <th>MntMeatProducts</th>\n",
       "      <th>MntFishProducts</th>\n",
       "      <th>...</th>\n",
       "      <th>NumWebVisitsMonth</th>\n",
       "      <th>AcceptedCmp3</th>\n",
       "      <th>AcceptedCmp4</th>\n",
       "      <th>AcceptedCmp5</th>\n",
       "      <th>AcceptedCmp1</th>\n",
       "      <th>AcceptedCmp2</th>\n",
       "      <th>Complain</th>\n",
       "      <th>Z_CostContact</th>\n",
       "      <th>Z_Revenue</th>\n",
       "      <th>Response</th>\n",
       "    </tr>\n",
       "  </thead>\n",
       "  <tbody>\n",
       "    <tr>\n",
       "      <th>count</th>\n",
       "      <td>2240.000000</td>\n",
       "      <td>2240.000000</td>\n",
       "      <td>2216.000000</td>\n",
       "      <td>2240.000000</td>\n",
       "      <td>2240.000000</td>\n",
       "      <td>2240.000000</td>\n",
       "      <td>2240.000000</td>\n",
       "      <td>2240.000000</td>\n",
       "      <td>2240.000000</td>\n",
       "      <td>2240.000000</td>\n",
       "      <td>...</td>\n",
       "      <td>2240.000000</td>\n",
       "      <td>2240.000000</td>\n",
       "      <td>2240.000000</td>\n",
       "      <td>2240.000000</td>\n",
       "      <td>2240.000000</td>\n",
       "      <td>2240.000000</td>\n",
       "      <td>2240.000000</td>\n",
       "      <td>2240.0</td>\n",
       "      <td>2240.0</td>\n",
       "      <td>2240.000000</td>\n",
       "    </tr>\n",
       "    <tr>\n",
       "      <th>mean</th>\n",
       "      <td>5592.159821</td>\n",
       "      <td>1968.805804</td>\n",
       "      <td>52247.251354</td>\n",
       "      <td>0.444196</td>\n",
       "      <td>0.506250</td>\n",
       "      <td>49.109375</td>\n",
       "      <td>303.935714</td>\n",
       "      <td>26.302232</td>\n",
       "      <td>166.950000</td>\n",
       "      <td>37.525446</td>\n",
       "      <td>...</td>\n",
       "      <td>5.316518</td>\n",
       "      <td>0.072768</td>\n",
       "      <td>0.074554</td>\n",
       "      <td>0.072768</td>\n",
       "      <td>0.064286</td>\n",
       "      <td>0.013393</td>\n",
       "      <td>0.009375</td>\n",
       "      <td>3.0</td>\n",
       "      <td>11.0</td>\n",
       "      <td>0.149107</td>\n",
       "    </tr>\n",
       "    <tr>\n",
       "      <th>std</th>\n",
       "      <td>3246.662198</td>\n",
       "      <td>11.984069</td>\n",
       "      <td>25173.076661</td>\n",
       "      <td>0.538398</td>\n",
       "      <td>0.544538</td>\n",
       "      <td>28.962453</td>\n",
       "      <td>336.597393</td>\n",
       "      <td>39.773434</td>\n",
       "      <td>225.715373</td>\n",
       "      <td>54.628979</td>\n",
       "      <td>...</td>\n",
       "      <td>2.426645</td>\n",
       "      <td>0.259813</td>\n",
       "      <td>0.262728</td>\n",
       "      <td>0.259813</td>\n",
       "      <td>0.245316</td>\n",
       "      <td>0.114976</td>\n",
       "      <td>0.096391</td>\n",
       "      <td>0.0</td>\n",
       "      <td>0.0</td>\n",
       "      <td>0.356274</td>\n",
       "    </tr>\n",
       "    <tr>\n",
       "      <th>min</th>\n",
       "      <td>0.000000</td>\n",
       "      <td>1893.000000</td>\n",
       "      <td>1730.000000</td>\n",
       "      <td>0.000000</td>\n",
       "      <td>0.000000</td>\n",
       "      <td>0.000000</td>\n",
       "      <td>0.000000</td>\n",
       "      <td>0.000000</td>\n",
       "      <td>0.000000</td>\n",
       "      <td>0.000000</td>\n",
       "      <td>...</td>\n",
       "      <td>0.000000</td>\n",
       "      <td>0.000000</td>\n",
       "      <td>0.000000</td>\n",
       "      <td>0.000000</td>\n",
       "      <td>0.000000</td>\n",
       "      <td>0.000000</td>\n",
       "      <td>0.000000</td>\n",
       "      <td>3.0</td>\n",
       "      <td>11.0</td>\n",
       "      <td>0.000000</td>\n",
       "    </tr>\n",
       "    <tr>\n",
       "      <th>25%</th>\n",
       "      <td>2828.250000</td>\n",
       "      <td>1959.000000</td>\n",
       "      <td>35303.000000</td>\n",
       "      <td>0.000000</td>\n",
       "      <td>0.000000</td>\n",
       "      <td>24.000000</td>\n",
       "      <td>23.750000</td>\n",
       "      <td>1.000000</td>\n",
       "      <td>16.000000</td>\n",
       "      <td>3.000000</td>\n",
       "      <td>...</td>\n",
       "      <td>3.000000</td>\n",
       "      <td>0.000000</td>\n",
       "      <td>0.000000</td>\n",
       "      <td>0.000000</td>\n",
       "      <td>0.000000</td>\n",
       "      <td>0.000000</td>\n",
       "      <td>0.000000</td>\n",
       "      <td>3.0</td>\n",
       "      <td>11.0</td>\n",
       "      <td>0.000000</td>\n",
       "    </tr>\n",
       "    <tr>\n",
       "      <th>50%</th>\n",
       "      <td>5458.500000</td>\n",
       "      <td>1970.000000</td>\n",
       "      <td>51381.500000</td>\n",
       "      <td>0.000000</td>\n",
       "      <td>0.000000</td>\n",
       "      <td>49.000000</td>\n",
       "      <td>173.500000</td>\n",
       "      <td>8.000000</td>\n",
       "      <td>67.000000</td>\n",
       "      <td>12.000000</td>\n",
       "      <td>...</td>\n",
       "      <td>6.000000</td>\n",
       "      <td>0.000000</td>\n",
       "      <td>0.000000</td>\n",
       "      <td>0.000000</td>\n",
       "      <td>0.000000</td>\n",
       "      <td>0.000000</td>\n",
       "      <td>0.000000</td>\n",
       "      <td>3.0</td>\n",
       "      <td>11.0</td>\n",
       "      <td>0.000000</td>\n",
       "    </tr>\n",
       "    <tr>\n",
       "      <th>75%</th>\n",
       "      <td>8427.750000</td>\n",
       "      <td>1977.000000</td>\n",
       "      <td>68522.000000</td>\n",
       "      <td>1.000000</td>\n",
       "      <td>1.000000</td>\n",
       "      <td>74.000000</td>\n",
       "      <td>504.250000</td>\n",
       "      <td>33.000000</td>\n",
       "      <td>232.000000</td>\n",
       "      <td>50.000000</td>\n",
       "      <td>...</td>\n",
       "      <td>7.000000</td>\n",
       "      <td>0.000000</td>\n",
       "      <td>0.000000</td>\n",
       "      <td>0.000000</td>\n",
       "      <td>0.000000</td>\n",
       "      <td>0.000000</td>\n",
       "      <td>0.000000</td>\n",
       "      <td>3.0</td>\n",
       "      <td>11.0</td>\n",
       "      <td>0.000000</td>\n",
       "    </tr>\n",
       "    <tr>\n",
       "      <th>max</th>\n",
       "      <td>11191.000000</td>\n",
       "      <td>1996.000000</td>\n",
       "      <td>666666.000000</td>\n",
       "      <td>2.000000</td>\n",
       "      <td>2.000000</td>\n",
       "      <td>99.000000</td>\n",
       "      <td>1493.000000</td>\n",
       "      <td>199.000000</td>\n",
       "      <td>1725.000000</td>\n",
       "      <td>259.000000</td>\n",
       "      <td>...</td>\n",
       "      <td>20.000000</td>\n",
       "      <td>1.000000</td>\n",
       "      <td>1.000000</td>\n",
       "      <td>1.000000</td>\n",
       "      <td>1.000000</td>\n",
       "      <td>1.000000</td>\n",
       "      <td>1.000000</td>\n",
       "      <td>3.0</td>\n",
       "      <td>11.0</td>\n",
       "      <td>1.000000</td>\n",
       "    </tr>\n",
       "  </tbody>\n",
       "</table>\n",
       "<p>8 rows × 26 columns</p>\n",
       "</div>"
      ],
      "text/plain": [
       "                 ID   Year_Birth         Income      Kidhome     Teenhome  \\\n",
       "count   2240.000000  2240.000000    2216.000000  2240.000000  2240.000000   \n",
       "mean    5592.159821  1968.805804   52247.251354     0.444196     0.506250   \n",
       "std     3246.662198    11.984069   25173.076661     0.538398     0.544538   \n",
       "min        0.000000  1893.000000    1730.000000     0.000000     0.000000   \n",
       "25%     2828.250000  1959.000000   35303.000000     0.000000     0.000000   \n",
       "50%     5458.500000  1970.000000   51381.500000     0.000000     0.000000   \n",
       "75%     8427.750000  1977.000000   68522.000000     1.000000     1.000000   \n",
       "max    11191.000000  1996.000000  666666.000000     2.000000     2.000000   \n",
       "\n",
       "           Recency     MntWines    MntFruits  MntMeatProducts  \\\n",
       "count  2240.000000  2240.000000  2240.000000      2240.000000   \n",
       "mean     49.109375   303.935714    26.302232       166.950000   \n",
       "std      28.962453   336.597393    39.773434       225.715373   \n",
       "min       0.000000     0.000000     0.000000         0.000000   \n",
       "25%      24.000000    23.750000     1.000000        16.000000   \n",
       "50%      49.000000   173.500000     8.000000        67.000000   \n",
       "75%      74.000000   504.250000    33.000000       232.000000   \n",
       "max      99.000000  1493.000000   199.000000      1725.000000   \n",
       "\n",
       "       MntFishProducts  ...  NumWebVisitsMonth  AcceptedCmp3  AcceptedCmp4  \\\n",
       "count      2240.000000  ...        2240.000000   2240.000000   2240.000000   \n",
       "mean         37.525446  ...           5.316518      0.072768      0.074554   \n",
       "std          54.628979  ...           2.426645      0.259813      0.262728   \n",
       "min           0.000000  ...           0.000000      0.000000      0.000000   \n",
       "25%           3.000000  ...           3.000000      0.000000      0.000000   \n",
       "50%          12.000000  ...           6.000000      0.000000      0.000000   \n",
       "75%          50.000000  ...           7.000000      0.000000      0.000000   \n",
       "max         259.000000  ...          20.000000      1.000000      1.000000   \n",
       "\n",
       "       AcceptedCmp5  AcceptedCmp1  AcceptedCmp2     Complain  Z_CostContact  \\\n",
       "count   2240.000000   2240.000000   2240.000000  2240.000000         2240.0   \n",
       "mean       0.072768      0.064286      0.013393     0.009375            3.0   \n",
       "std        0.259813      0.245316      0.114976     0.096391            0.0   \n",
       "min        0.000000      0.000000      0.000000     0.000000            3.0   \n",
       "25%        0.000000      0.000000      0.000000     0.000000            3.0   \n",
       "50%        0.000000      0.000000      0.000000     0.000000            3.0   \n",
       "75%        0.000000      0.000000      0.000000     0.000000            3.0   \n",
       "max        1.000000      1.000000      1.000000     1.000000            3.0   \n",
       "\n",
       "       Z_Revenue     Response  \n",
       "count     2240.0  2240.000000  \n",
       "mean        11.0     0.149107  \n",
       "std          0.0     0.356274  \n",
       "min         11.0     0.000000  \n",
       "25%         11.0     0.000000  \n",
       "50%         11.0     0.000000  \n",
       "75%         11.0     0.000000  \n",
       "max         11.0     1.000000  \n",
       "\n",
       "[8 rows x 26 columns]"
      ]
     },
     "execution_count": 4,
     "metadata": {},
     "output_type": "execute_result"
    }
   ],
   "source": [
    "df.describe()"
   ]
  },
  {
   "cell_type": "code",
   "execution_count": 5,
   "id": "f0a8801f",
   "metadata": {},
   "outputs": [
    {
     "data": {
      "text/html": [
       "<div>\n",
       "<style scoped>\n",
       "    .dataframe tbody tr th:only-of-type {\n",
       "        vertical-align: middle;\n",
       "    }\n",
       "\n",
       "    .dataframe tbody tr th {\n",
       "        vertical-align: top;\n",
       "    }\n",
       "\n",
       "    .dataframe thead th {\n",
       "        text-align: right;\n",
       "    }\n",
       "</style>\n",
       "<table border=\"1\" class=\"dataframe\">\n",
       "  <thead>\n",
       "    <tr style=\"text-align: right;\">\n",
       "      <th></th>\n",
       "      <th>ID</th>\n",
       "      <th>Year_Birth</th>\n",
       "      <th>Education</th>\n",
       "      <th>Marital_Status</th>\n",
       "      <th>Income</th>\n",
       "      <th>Kidhome</th>\n",
       "      <th>Teenhome</th>\n",
       "      <th>Dt_Customer</th>\n",
       "      <th>Recency</th>\n",
       "      <th>MntWines</th>\n",
       "      <th>...</th>\n",
       "      <th>NumWebVisitsMonth</th>\n",
       "      <th>AcceptedCmp3</th>\n",
       "      <th>AcceptedCmp4</th>\n",
       "      <th>AcceptedCmp5</th>\n",
       "      <th>AcceptedCmp1</th>\n",
       "      <th>AcceptedCmp2</th>\n",
       "      <th>Complain</th>\n",
       "      <th>Z_CostContact</th>\n",
       "      <th>Z_Revenue</th>\n",
       "      <th>Response</th>\n",
       "    </tr>\n",
       "  </thead>\n",
       "  <tbody>\n",
       "    <tr>\n",
       "      <th>0</th>\n",
       "      <td>5524</td>\n",
       "      <td>1957</td>\n",
       "      <td>Graduation</td>\n",
       "      <td>Single</td>\n",
       "      <td>58138.0</td>\n",
       "      <td>0</td>\n",
       "      <td>0</td>\n",
       "      <td>2012-09-04</td>\n",
       "      <td>58</td>\n",
       "      <td>635</td>\n",
       "      <td>...</td>\n",
       "      <td>7</td>\n",
       "      <td>0</td>\n",
       "      <td>0</td>\n",
       "      <td>0</td>\n",
       "      <td>0</td>\n",
       "      <td>0</td>\n",
       "      <td>0</td>\n",
       "      <td>3</td>\n",
       "      <td>11</td>\n",
       "      <td>1</td>\n",
       "    </tr>\n",
       "    <tr>\n",
       "      <th>1</th>\n",
       "      <td>2174</td>\n",
       "      <td>1954</td>\n",
       "      <td>Graduation</td>\n",
       "      <td>Single</td>\n",
       "      <td>46344.0</td>\n",
       "      <td>1</td>\n",
       "      <td>1</td>\n",
       "      <td>2014-03-08</td>\n",
       "      <td>38</td>\n",
       "      <td>11</td>\n",
       "      <td>...</td>\n",
       "      <td>5</td>\n",
       "      <td>0</td>\n",
       "      <td>0</td>\n",
       "      <td>0</td>\n",
       "      <td>0</td>\n",
       "      <td>0</td>\n",
       "      <td>0</td>\n",
       "      <td>3</td>\n",
       "      <td>11</td>\n",
       "      <td>0</td>\n",
       "    </tr>\n",
       "    <tr>\n",
       "      <th>2</th>\n",
       "      <td>4141</td>\n",
       "      <td>1965</td>\n",
       "      <td>Graduation</td>\n",
       "      <td>Together</td>\n",
       "      <td>71613.0</td>\n",
       "      <td>0</td>\n",
       "      <td>0</td>\n",
       "      <td>2013-08-21</td>\n",
       "      <td>26</td>\n",
       "      <td>426</td>\n",
       "      <td>...</td>\n",
       "      <td>4</td>\n",
       "      <td>0</td>\n",
       "      <td>0</td>\n",
       "      <td>0</td>\n",
       "      <td>0</td>\n",
       "      <td>0</td>\n",
       "      <td>0</td>\n",
       "      <td>3</td>\n",
       "      <td>11</td>\n",
       "      <td>0</td>\n",
       "    </tr>\n",
       "    <tr>\n",
       "      <th>3</th>\n",
       "      <td>6182</td>\n",
       "      <td>1984</td>\n",
       "      <td>Graduation</td>\n",
       "      <td>Together</td>\n",
       "      <td>26646.0</td>\n",
       "      <td>1</td>\n",
       "      <td>0</td>\n",
       "      <td>2014-02-10</td>\n",
       "      <td>26</td>\n",
       "      <td>11</td>\n",
       "      <td>...</td>\n",
       "      <td>6</td>\n",
       "      <td>0</td>\n",
       "      <td>0</td>\n",
       "      <td>0</td>\n",
       "      <td>0</td>\n",
       "      <td>0</td>\n",
       "      <td>0</td>\n",
       "      <td>3</td>\n",
       "      <td>11</td>\n",
       "      <td>0</td>\n",
       "    </tr>\n",
       "    <tr>\n",
       "      <th>4</th>\n",
       "      <td>5324</td>\n",
       "      <td>1981</td>\n",
       "      <td>PhD</td>\n",
       "      <td>Married</td>\n",
       "      <td>58293.0</td>\n",
       "      <td>1</td>\n",
       "      <td>0</td>\n",
       "      <td>2014-01-19</td>\n",
       "      <td>94</td>\n",
       "      <td>173</td>\n",
       "      <td>...</td>\n",
       "      <td>5</td>\n",
       "      <td>0</td>\n",
       "      <td>0</td>\n",
       "      <td>0</td>\n",
       "      <td>0</td>\n",
       "      <td>0</td>\n",
       "      <td>0</td>\n",
       "      <td>3</td>\n",
       "      <td>11</td>\n",
       "      <td>0</td>\n",
       "    </tr>\n",
       "  </tbody>\n",
       "</table>\n",
       "<p>5 rows × 29 columns</p>\n",
       "</div>"
      ],
      "text/plain": [
       "     ID  Year_Birth   Education Marital_Status   Income  Kidhome  Teenhome  \\\n",
       "0  5524        1957  Graduation         Single  58138.0        0         0   \n",
       "1  2174        1954  Graduation         Single  46344.0        1         1   \n",
       "2  4141        1965  Graduation       Together  71613.0        0         0   \n",
       "3  6182        1984  Graduation       Together  26646.0        1         0   \n",
       "4  5324        1981         PhD        Married  58293.0        1         0   \n",
       "\n",
       "  Dt_Customer  Recency  MntWines  ...  NumWebVisitsMonth  AcceptedCmp3  \\\n",
       "0  2012-09-04       58       635  ...                  7             0   \n",
       "1  2014-03-08       38        11  ...                  5             0   \n",
       "2  2013-08-21       26       426  ...                  4             0   \n",
       "3  2014-02-10       26        11  ...                  6             0   \n",
       "4  2014-01-19       94       173  ...                  5             0   \n",
       "\n",
       "   AcceptedCmp4  AcceptedCmp5  AcceptedCmp1  AcceptedCmp2  Complain  \\\n",
       "0             0             0             0             0         0   \n",
       "1             0             0             0             0         0   \n",
       "2             0             0             0             0         0   \n",
       "3             0             0             0             0         0   \n",
       "4             0             0             0             0         0   \n",
       "\n",
       "   Z_CostContact  Z_Revenue  Response  \n",
       "0              3         11         1  \n",
       "1              3         11         0  \n",
       "2              3         11         0  \n",
       "3              3         11         0  \n",
       "4              3         11         0  \n",
       "\n",
       "[5 rows x 29 columns]"
      ]
     },
     "execution_count": 5,
     "metadata": {},
     "output_type": "execute_result"
    }
   ],
   "source": [
    "df.head()"
   ]
  },
  {
   "cell_type": "code",
   "execution_count": 6,
   "id": "5ec21541",
   "metadata": {},
   "outputs": [
    {
     "data": {
      "text/plain": [
       "ID                      0\n",
       "Year_Birth              0\n",
       "Education               0\n",
       "Marital_Status          0\n",
       "Income                 24\n",
       "Kidhome                 0\n",
       "Teenhome                0\n",
       "Dt_Customer             0\n",
       "Recency                 0\n",
       "MntWines                0\n",
       "MntFruits               0\n",
       "MntMeatProducts         0\n",
       "MntFishProducts         0\n",
       "MntSweetProducts        0\n",
       "MntGoldProds            0\n",
       "NumDealsPurchases       0\n",
       "NumWebPurchases         0\n",
       "NumCatalogPurchases     0\n",
       "NumStorePurchases       0\n",
       "NumWebVisitsMonth       0\n",
       "AcceptedCmp3            0\n",
       "AcceptedCmp4            0\n",
       "AcceptedCmp5            0\n",
       "AcceptedCmp1            0\n",
       "AcceptedCmp2            0\n",
       "Complain                0\n",
       "Z_CostContact           0\n",
       "Z_Revenue               0\n",
       "Response                0\n",
       "dtype: int64"
      ]
     },
     "execution_count": 6,
     "metadata": {},
     "output_type": "execute_result"
    }
   ],
   "source": [
    "df.isna().sum()"
   ]
  },
  {
   "cell_type": "code",
   "execution_count": 7,
   "id": "bdb4de4b",
   "metadata": {},
   "outputs": [
    {
     "name": "stdout",
     "output_type": "stream",
     "text": [
      "Number of sampels after removing: 2216\n"
     ]
    }
   ],
   "source": [
    "#To remove the NA values\n",
    "df = df.dropna()\n",
    "print(\"Number of sampels after removing:\", len(df))"
   ]
  },
  {
   "cell_type": "code",
   "execution_count": 8,
   "id": "fdf76af2",
   "metadata": {},
   "outputs": [
    {
     "name": "stdout",
     "output_type": "stream",
     "text": [
      "Before : 2216\n",
      "After : 2216\n"
     ]
    }
   ],
   "source": [
    "df_copy = df.copy()\n",
    "print(f'Before : {len(df_copy)}')\n",
    "df_copy.drop_duplicates(keep = False, inplace = True)\n",
    "print(f'After : {len(df_copy)}') # no duplicates"
   ]
  },
  {
   "cell_type": "code",
   "execution_count": 9,
   "id": "58e88025",
   "metadata": {},
   "outputs": [
    {
     "data": {
      "image/png": "[encoded data removed]",
      "text/plain": [
       "<Figure size 1440x1080 with 30 Axes>"
      ]
     },
     "metadata": {
      "needs_background": "light"
     },
     "output_type": "display_data"
    }
   ],
   "source": [
    "# test\n",
    "df_copy.hist(figsize=(20,15))\n",
    "plt.show()"
   ]
  },
  {
   "cell_type": "code",
   "execution_count": 10,
   "id": "a272edd4",
   "metadata": {},
   "outputs": [
    {
     "data": {
      "text/plain": [
       "array(['Single', 'Together', 'Married', 'Divorced', 'Widow', 'Alone',\n",
       "       'Absurd', 'YOLO'], dtype=object)"
      ]
     },
     "execution_count": 10,
     "metadata": {},
     "output_type": "execute_result"
    }
   ],
   "source": [
    "df['Marital_Status'].unique()"
   ]
  },
  {
   "cell_type": "code",
   "execution_count": 11,
   "id": "3649221b",
   "metadata": {},
   "outputs": [
    {
     "data": {
      "text/plain": [
       "array(['Graduation', 'PhD', 'Master', 'Basic', '2n Cycle'], dtype=object)"
      ]
     },
     "execution_count": 11,
     "metadata": {},
     "output_type": "execute_result"
    }
   ],
   "source": [
    "df['Education'].unique()"
   ]
  },
  {
   "cell_type": "markdown",
   "id": "93248076",
   "metadata": {},
   "source": [
    "## Feature Engineering"
   ]
  },
  {
   "cell_type": "code",
   "execution_count": 12,
   "id": "bdb69e55",
   "metadata": {},
   "outputs": [],
   "source": [
    "#Age of customer today \n",
    "df[\"Age\"] = date.today().year-df[\"Year_Birth\"]\n",
    "\n",
    "df['Num_Accepted_Cmp'] = df['AcceptedCmp1'] + df['AcceptedCmp2'] + df['AcceptedCmp3'] + df['AcceptedCmp4'] + df['AcceptedCmp5']+ df['Response']\n",
    "\n",
    "#Total spendings on various items\n",
    "df[\"Spent\"] = df[\"MntWines\"]+ df[\"MntFruits\"]+ df[\"MntMeatProducts\"]+ df[\"MntFishProducts\"]+ df[\"MntSweetProducts\"]+ df[\"MntGoldProds\"]\n",
    "\n",
    "#Deriving living situation by marital status\"Alone\"\n",
    "df[\"Living_With\"]=df[\"Marital_Status\"].replace({\"Married\":\"Partner\", \"Together\":\"Partner\", \"Absurd\":\"Alone\", \"Widow\":\"Alone\", \"YOLO\":\"Alone\", \"Divorced\":\"Alone\", \"Single\":\"Alone\",})\n",
    "\n",
    "#Feature indicating total children living in the household\n",
    "df[\"Children\"]=df[\"Kidhome\"]+df[\"Teenhome\"]\n",
    "\n",
    "#Feature for total members in the householde\n",
    "df[\"Family_Size\"] = df[\"Living_With\"].replace({\"Alone\": 1, \"Partner\":2})+ df[\"Children\"]\n",
    "\n",
    "#Feature pertaining parenthood\n",
    "df[\"Is_Parent\"] = np.where(df.Children> 0, 1, 0)\n",
    "\n",
    "#Segmenting education levels in three groups\n",
    "df[\"Education\"]=df[\"Education\"].replace({\"Basic\":\"Undergraduate\",\"2n Cycle\":\"Undergraduate\", \"Graduation\":\"Graduate\", \"Master\":\"Postgraduate\", \"PhD\":\"Postgraduate\"})\n",
    "\n",
    "#For clarity\n",
    "df=df.rename(columns={\"MntWines\": \"Wines\",\"MntFruits\":\"Fruits\",\"MntMeatProducts\":\"Meat\",\"MntFishProducts\":\"Fish\",\"MntSweetProducts\":\"Sweets\",\"MntGoldProds\":\"Gold\"})\n"
   ]
  },
  {
   "cell_type": "code",
   "execution_count": 13,
   "id": "c8718cd9",
   "metadata": {},
   "outputs": [],
   "source": [
    "#Dropping some of the redundant features\n",
    "to_drop = [\"Marital_Status\", \"Dt_Customer\", \"Year_Birth\", \"ID\",\"Children\",\"Living_With\",\n",
    "          'AcceptedCmp1','AcceptedCmp2','AcceptedCmp3','AcceptedCmp4','AcceptedCmp5','Response',\n",
    "           'Kidhome','Teenhome',\"Z_CostContact\", \"Z_Revenue\",'Complain']\n",
    "\n",
    "df = df.drop(to_drop, axis=1)"
   ]
  },
  {
   "cell_type": "code",
   "execution_count": 14,
   "id": "226059da",
   "metadata": {},
   "outputs": [
    {
     "data": {
      "text/plain": [
       "array([1, 0, 3, 2, 4, 5], dtype=int64)"
      ]
     },
     "execution_count": 14,
     "metadata": {},
     "output_type": "execute_result"
    }
   ],
   "source": [
    "df['Num_Accepted_Cmp'].unique()"
   ]
  },
  {
   "cell_type": "code",
   "execution_count": 15,
   "id": "84dcba37",
   "metadata": {},
   "outputs": [
    {
     "name": "stdout",
     "output_type": "stream",
     "text": [
      "The total number of df-points after removing the outliers are: 2212\n"
     ]
    }
   ],
   "source": [
    "#Dropping the outliers by setting a cap on Age and income. \n",
    "df = df[(df[\"Age\"]<90)]\n",
    "df = df[(df[\"Income\"]<600000)]\n",
    "print(\"The total number of df-points after removing the outliers are:\", len(df))"
   ]
  },
  {
   "cell_type": "code",
   "execution_count": 16,
   "id": "bbaf0149",
   "metadata": {},
   "outputs": [
    {
     "data": {
      "text/plain": [
       "19"
      ]
     },
     "execution_count": 16,
     "metadata": {},
     "output_type": "execute_result"
    }
   ],
   "source": [
    "len(df.columns)"
   ]
  },
  {
   "cell_type": "code",
   "execution_count": 17,
   "id": "11a80733",
   "metadata": {},
   "outputs": [
    {
     "name": "stdout",
     "output_type": "stream",
     "text": [
      "Categorical variables in the dfset: ['Education']\n"
     ]
    }
   ],
   "source": [
    "#Get list of categorical variables\n",
    "categ_features = (df.dtypes == 'object')\n",
    "object_cols = list(categ_features[categ_features].index)\n",
    "\n",
    "print(\"Categorical variables in the dfset:\", object_cols)"
   ]
  },
  {
   "cell_type": "code",
   "execution_count": 18,
   "id": "893b0376",
   "metadata": {},
   "outputs": [
    {
     "name": "stdout",
     "output_type": "stream",
     "text": [
      "All features are now numerical\n"
     ]
    }
   ],
   "source": [
    "le =  LabelEncoder()\n",
    "for i in object_cols:\n",
    "    df[i]=df[[i]].apply(le.fit_transform)\n",
    "\n",
    "print(\"All features are now numerical\")"
   ]
  },
  {
   "cell_type": "code",
   "execution_count": 19,
   "id": "13167295",
   "metadata": {},
   "outputs": [
    {
     "name": "stdout",
     "output_type": "stream",
     "text": [
      "All features are now scaled\n"
     ]
    }
   ],
   "source": [
    "#Scaling\n",
    "scaler = StandardScaler()\n",
    "scaler.fit(df)\n",
    "scaled_df = pd.DataFrame(scaler.transform(df),columns= df.columns )\n",
    "print(\"All features are now scaled\")"
   ]
  },
  {
   "cell_type": "markdown",
   "id": "51ea648b",
   "metadata": {},
   "source": [
    "## Before Applying PCA"
   ]
  },
  {
   "cell_type": "code",
   "execution_count": 20,
   "id": "06e43818",
   "metadata": {},
   "outputs": [],
   "source": [
    "def plot_Clusters(df,f1,f2,labels_, only_clustered = False):\n",
    "    plt.clf()\n",
    "    clusters = np.unique(labels_)\n",
    "    colors = ['r','g','c','m','y','k','#222222','#22FFF2','#24AAA2','#22FF22','grey']\n",
    "    for c in clusters:   \n",
    "        if(only_clustered):\n",
    "            if (c==-1):\n",
    "                continue\n",
    "        c_label = 'Noise' if (c==-1) else f'cluster {c}'\n",
    "        plt.scatter(df[labels_==c][f1], df[labels_==c][f2],c=colors[c],label=c_label)\n",
    "    plt.xlabel(f1)\n",
    "    plt.ylabel(f2)\n",
    "    plt.title('Plot Using Only 2 Features')\n",
    "    plt.legend()"
   ]
  },
  {
   "cell_type": "code",
   "execution_count": 21,
   "id": "bed52b4a",
   "metadata": {},
   "outputs": [
    {
     "data": {
      "text/html": [
       "<div>\n",
       "<style scoped>\n",
       "    .dataframe tbody tr th:only-of-type {\n",
       "        vertical-align: middle;\n",
       "    }\n",
       "\n",
       "    .dataframe tbody tr th {\n",
       "        vertical-align: top;\n",
       "    }\n",
       "\n",
       "    .dataframe thead th {\n",
       "        text-align: right;\n",
       "    }\n",
       "</style>\n",
       "<table border=\"1\" class=\"dataframe\">\n",
       "  <thead>\n",
       "    <tr style=\"text-align: right;\">\n",
       "      <th></th>\n",
       "      <th>Education</th>\n",
       "      <th>Income</th>\n",
       "      <th>Recency</th>\n",
       "      <th>Wines</th>\n",
       "      <th>Fruits</th>\n",
       "      <th>Meat</th>\n",
       "      <th>Fish</th>\n",
       "      <th>Sweets</th>\n",
       "      <th>Gold</th>\n",
       "      <th>NumDealsPurchases</th>\n",
       "      <th>NumWebPurchases</th>\n",
       "      <th>NumCatalogPurchases</th>\n",
       "      <th>NumStorePurchases</th>\n",
       "      <th>NumWebVisitsMonth</th>\n",
       "      <th>Age</th>\n",
       "      <th>Num_Accepted_Cmp</th>\n",
       "      <th>Spent</th>\n",
       "      <th>Family_Size</th>\n",
       "      <th>Is_Parent</th>\n",
       "    </tr>\n",
       "  </thead>\n",
       "  <tbody>\n",
       "    <tr>\n",
       "      <th>0</th>\n",
       "      <td>-0.893586</td>\n",
       "      <td>0.287105</td>\n",
       "      <td>0.310353</td>\n",
       "      <td>0.977660</td>\n",
       "      <td>1.552041</td>\n",
       "      <td>1.690293</td>\n",
       "      <td>2.453472</td>\n",
       "      <td>1.483713</td>\n",
       "      <td>0.852576</td>\n",
       "      <td>0.351030</td>\n",
       "      <td>1.426865</td>\n",
       "      <td>2.503607</td>\n",
       "      <td>-0.555814</td>\n",
       "      <td>0.692181</td>\n",
       "      <td>1.018352</td>\n",
       "      <td>0.617244</td>\n",
       "      <td>1.676245</td>\n",
       "      <td>-1.758359</td>\n",
       "      <td>-1.581139</td>\n",
       "    </tr>\n",
       "    <tr>\n",
       "      <th>1</th>\n",
       "      <td>-0.893586</td>\n",
       "      <td>-0.260882</td>\n",
       "      <td>-0.380813</td>\n",
       "      <td>-0.872618</td>\n",
       "      <td>-0.637461</td>\n",
       "      <td>-0.718230</td>\n",
       "      <td>-0.651004</td>\n",
       "      <td>-0.634019</td>\n",
       "      <td>-0.733642</td>\n",
       "      <td>-0.168701</td>\n",
       "      <td>-1.126420</td>\n",
       "      <td>-0.571340</td>\n",
       "      <td>-1.171160</td>\n",
       "      <td>-0.132545</td>\n",
       "      <td>1.274785</td>\n",
       "      <td>-0.502808</td>\n",
       "      <td>-0.963297</td>\n",
       "      <td>0.449070</td>\n",
       "      <td>0.632456</td>\n",
       "    </tr>\n",
       "    <tr>\n",
       "      <th>2</th>\n",
       "      <td>-0.893586</td>\n",
       "      <td>0.913196</td>\n",
       "      <td>-0.795514</td>\n",
       "      <td>0.357935</td>\n",
       "      <td>0.570540</td>\n",
       "      <td>-0.178542</td>\n",
       "      <td>1.339513</td>\n",
       "      <td>-0.147184</td>\n",
       "      <td>-0.037254</td>\n",
       "      <td>-0.688432</td>\n",
       "      <td>1.426865</td>\n",
       "      <td>-0.229679</td>\n",
       "      <td>1.290224</td>\n",
       "      <td>-0.544908</td>\n",
       "      <td>0.334530</td>\n",
       "      <td>-0.502808</td>\n",
       "      <td>0.280110</td>\n",
       "      <td>-0.654644</td>\n",
       "      <td>-1.581139</td>\n",
       "    </tr>\n",
       "    <tr>\n",
       "      <th>3</th>\n",
       "      <td>-0.893586</td>\n",
       "      <td>-1.176114</td>\n",
       "      <td>-0.795514</td>\n",
       "      <td>-0.872618</td>\n",
       "      <td>-0.561961</td>\n",
       "      <td>-0.655787</td>\n",
       "      <td>-0.504911</td>\n",
       "      <td>-0.585335</td>\n",
       "      <td>-0.752987</td>\n",
       "      <td>-0.168701</td>\n",
       "      <td>-0.761665</td>\n",
       "      <td>-0.913000</td>\n",
       "      <td>-0.555814</td>\n",
       "      <td>0.279818</td>\n",
       "      <td>-1.289547</td>\n",
       "      <td>-0.502808</td>\n",
       "      <td>-0.920135</td>\n",
       "      <td>0.449070</td>\n",
       "      <td>0.632456</td>\n",
       "    </tr>\n",
       "    <tr>\n",
       "      <th>4</th>\n",
       "      <td>0.571657</td>\n",
       "      <td>0.294307</td>\n",
       "      <td>1.554453</td>\n",
       "      <td>-0.392257</td>\n",
       "      <td>0.419540</td>\n",
       "      <td>-0.218684</td>\n",
       "      <td>0.152508</td>\n",
       "      <td>-0.001133</td>\n",
       "      <td>-0.559545</td>\n",
       "      <td>1.390492</td>\n",
       "      <td>0.332600</td>\n",
       "      <td>0.111982</td>\n",
       "      <td>0.059532</td>\n",
       "      <td>-0.132545</td>\n",
       "      <td>-1.033114</td>\n",
       "      <td>-0.502808</td>\n",
       "      <td>-0.307562</td>\n",
       "      <td>0.449070</td>\n",
       "      <td>0.632456</td>\n",
       "    </tr>\n",
       "    <tr>\n",
       "      <th>...</th>\n",
       "      <td>...</td>\n",
       "      <td>...</td>\n",
       "      <td>...</td>\n",
       "      <td>...</td>\n",
       "      <td>...</td>\n",
       "      <td>...</td>\n",
       "      <td>...</td>\n",
       "      <td>...</td>\n",
       "      <td>...</td>\n",
       "      <td>...</td>\n",
       "      <td>...</td>\n",
       "      <td>...</td>\n",
       "      <td>...</td>\n",
       "      <td>...</td>\n",
       "      <td>...</td>\n",
       "      <td>...</td>\n",
       "      <td>...</td>\n",
       "      <td>...</td>\n",
       "      <td>...</td>\n",
       "    </tr>\n",
       "    <tr>\n",
       "      <th>2207</th>\n",
       "      <td>-0.893586</td>\n",
       "      <td>0.430444</td>\n",
       "      <td>-0.104347</td>\n",
       "      <td>1.197084</td>\n",
       "      <td>0.419540</td>\n",
       "      <td>0.066770</td>\n",
       "      <td>0.079461</td>\n",
       "      <td>2.213965</td>\n",
       "      <td>3.928291</td>\n",
       "      <td>-0.168701</td>\n",
       "      <td>1.791619</td>\n",
       "      <td>0.111982</td>\n",
       "      <td>-0.555814</td>\n",
       "      <td>-0.132545</td>\n",
       "      <td>0.163575</td>\n",
       "      <td>-0.502808</td>\n",
       "      <td>1.218061</td>\n",
       "      <td>0.449070</td>\n",
       "      <td>0.632456</td>\n",
       "    </tr>\n",
       "    <tr>\n",
       "      <th>2208</th>\n",
       "      <td>0.571657</td>\n",
       "      <td>0.560123</td>\n",
       "      <td>0.241237</td>\n",
       "      <td>0.298631</td>\n",
       "      <td>-0.662628</td>\n",
       "      <td>-0.611184</td>\n",
       "      <td>-0.687527</td>\n",
       "      <td>-0.658360</td>\n",
       "      <td>-0.694954</td>\n",
       "      <td>2.429954</td>\n",
       "      <td>1.426865</td>\n",
       "      <td>-0.229679</td>\n",
       "      <td>-0.248141</td>\n",
       "      <td>0.692181</td>\n",
       "      <td>1.958607</td>\n",
       "      <td>0.617244</td>\n",
       "      <td>-0.271040</td>\n",
       "      <td>2.656499</td>\n",
       "      <td>0.632456</td>\n",
       "    </tr>\n",
       "    <tr>\n",
       "      <th>2209</th>\n",
       "      <td>-0.893586</td>\n",
       "      <td>0.233347</td>\n",
       "      <td>1.450778</td>\n",
       "      <td>1.787156</td>\n",
       "      <td>0.545373</td>\n",
       "      <td>0.222878</td>\n",
       "      <td>-0.103155</td>\n",
       "      <td>-0.366260</td>\n",
       "      <td>-0.385448</td>\n",
       "      <td>-0.688432</td>\n",
       "      <td>-0.761665</td>\n",
       "      <td>0.111982</td>\n",
       "      <td>2.213242</td>\n",
       "      <td>0.279818</td>\n",
       "      <td>-1.033114</td>\n",
       "      <td>0.617244</td>\n",
       "      <td>1.052052</td>\n",
       "      <td>-1.758359</td>\n",
       "      <td>-1.581139</td>\n",
       "    </tr>\n",
       "    <tr>\n",
       "      <th>2210</th>\n",
       "      <td>0.571657</td>\n",
       "      <td>0.803172</td>\n",
       "      <td>-1.417564</td>\n",
       "      <td>0.363866</td>\n",
       "      <td>0.092373</td>\n",
       "      <td>0.209498</td>\n",
       "      <td>0.773403</td>\n",
       "      <td>0.071892</td>\n",
       "      <td>0.330284</td>\n",
       "      <td>-0.168701</td>\n",
       "      <td>0.697355</td>\n",
       "      <td>0.795303</td>\n",
       "      <td>1.290224</td>\n",
       "      <td>-0.957271</td>\n",
       "      <td>1.103830</td>\n",
       "      <td>-0.502808</td>\n",
       "      <td>0.391336</td>\n",
       "      <td>0.449070</td>\n",
       "      <td>0.632456</td>\n",
       "    </tr>\n",
       "    <tr>\n",
       "      <th>2211</th>\n",
       "      <td>0.571657</td>\n",
       "      <td>0.042290</td>\n",
       "      <td>-0.311697</td>\n",
       "      <td>-0.656159</td>\n",
       "      <td>-0.587128</td>\n",
       "      <td>-0.472917</td>\n",
       "      <td>-0.651004</td>\n",
       "      <td>-0.634019</td>\n",
       "      <td>-0.443481</td>\n",
       "      <td>0.351030</td>\n",
       "      <td>-0.396910</td>\n",
       "      <td>-0.571340</td>\n",
       "      <td>-0.555814</td>\n",
       "      <td>0.692181</td>\n",
       "      <td>1.274785</td>\n",
       "      <td>0.617244</td>\n",
       "      <td>-0.722584</td>\n",
       "      <td>1.552784</td>\n",
       "      <td>0.632456</td>\n",
       "    </tr>\n",
       "  </tbody>\n",
       "</table>\n",
       "<p>2212 rows × 19 columns</p>\n",
       "</div>"
      ],
      "text/plain": [
       "      Education    Income   Recency     Wines    Fruits      Meat      Fish  \\\n",
       "0     -0.893586  0.287105  0.310353  0.977660  1.552041  1.690293  2.453472   \n",
       "1     -0.893586 -0.260882 -0.380813 -0.872618 -0.637461 -0.718230 -0.651004   \n",
       "2     -0.893586  0.913196 -0.795514  0.357935  0.570540 -0.178542  1.339513   \n",
       "3     -0.893586 -1.176114 -0.795514 -0.872618 -0.561961 -0.655787 -0.504911   \n",
       "4      0.571657  0.294307  1.554453 -0.392257  0.419540 -0.218684  0.152508   \n",
       "...         ...       ...       ...       ...       ...       ...       ...   \n",
       "2207  -0.893586  0.430444 -0.104347  1.197084  0.419540  0.066770  0.079461   \n",
       "2208   0.571657  0.560123  0.241237  0.298631 -0.662628 -0.611184 -0.687527   \n",
       "2209  -0.893586  0.233347  1.450778  1.787156  0.545373  0.222878 -0.103155   \n",
       "2210   0.571657  0.803172 -1.417564  0.363866  0.092373  0.209498  0.773403   \n",
       "2211   0.571657  0.042290 -0.311697 -0.656159 -0.587128 -0.472917 -0.651004   \n",
       "\n",
       "        Sweets      Gold  NumDealsPurchases  NumWebPurchases  \\\n",
       "0     1.483713  0.852576           0.351030         1.426865   \n",
       "1    -0.634019 -0.733642          -0.168701        -1.126420   \n",
       "2    -0.147184 -0.037254          -0.688432         1.426865   \n",
       "3    -0.585335 -0.752987          -0.168701        -0.761665   \n",
       "4    -0.001133 -0.559545           1.390492         0.332600   \n",
       "...        ...       ...                ...              ...   \n",
       "2207  2.213965  3.928291          -0.168701         1.791619   \n",
       "2208 -0.658360 -0.694954           2.429954         1.426865   \n",
       "2209 -0.366260 -0.385448          -0.688432        -0.761665   \n",
       "2210  0.071892  0.330284          -0.168701         0.697355   \n",
       "2211 -0.634019 -0.443481           0.351030        -0.396910   \n",
       "\n",
       "      NumCatalogPurchases  NumStorePurchases  NumWebVisitsMonth       Age  \\\n",
       "0                2.503607          -0.555814           0.692181  1.018352   \n",
       "1               -0.571340          -1.171160          -0.132545  1.274785   \n",
       "2               -0.229679           1.290224          -0.544908  0.334530   \n",
       "3               -0.913000          -0.555814           0.279818 -1.289547   \n",
       "4                0.111982           0.059532          -0.132545 -1.033114   \n",
       "...                   ...                ...                ...       ...   \n",
       "2207             0.111982          -0.555814          -0.132545  0.163575   \n",
       "2208            -0.229679          -0.248141           0.692181  1.958607   \n",
       "2209             0.111982           2.213242           0.279818 -1.033114   \n",
       "2210             0.795303           1.290224          -0.957271  1.103830   \n",
       "2211            -0.571340          -0.555814           0.692181  1.274785   \n",
       "\n",
       "      Num_Accepted_Cmp     Spent  Family_Size  Is_Parent  \n",
       "0             0.617244  1.676245    -1.758359  -1.581139  \n",
       "1            -0.502808 -0.963297     0.449070   0.632456  \n",
       "2            -0.502808  0.280110    -0.654644  -1.581139  \n",
       "3            -0.502808 -0.920135     0.449070   0.632456  \n",
       "4            -0.502808 -0.307562     0.449070   0.632456  \n",
       "...                ...       ...          ...        ...  \n",
       "2207         -0.502808  1.218061     0.449070   0.632456  \n",
       "2208          0.617244 -0.271040     2.656499   0.632456  \n",
       "2209          0.617244  1.052052    -1.758359  -1.581139  \n",
       "2210         -0.502808  0.391336     0.449070   0.632456  \n",
       "2211          0.617244 -0.722584     1.552784   0.632456  \n",
       "\n",
       "[2212 rows x 19 columns]"
      ]
     },
     "execution_count": 21,
     "metadata": {},
     "output_type": "execute_result"
    }
   ],
   "source": [
    "scaled_df"
   ]
  },
  {
   "cell_type": "markdown",
   "id": "2075aae0",
   "metadata": {},
   "source": [
    "## Hierarchical"
   ]
  },
  {
   "cell_type": "code",
   "execution_count": 22,
   "id": "ea3697ed",
   "metadata": {},
   "outputs": [
    {
     "data": {
      "image/png": "[encoded data removed]",
      "text/plain": [
       "<Figure size 720x504 with 1 Axes>"
      ]
     },
     "metadata": {
      "needs_background": "light"
     },
     "output_type": "display_data"
    }
   ],
   "source": [
    "plt.figure(figsize=(10, 7))\n",
    "plt.title(\"Counters Dendograms\")\n",
    "dend = shc.dendrogram(shc.linkage(y=scaled_df , method='ward',metric='euclidean'))"
   ]
  },
  {
   "cell_type": "code",
   "execution_count": 23,
   "id": "c42b5653",
   "metadata": {},
   "outputs": [],
   "source": [
    "model_H = AgglomerativeClustering(n_clusters=3)\n",
    "model_H = model_H.fit(scaled_df)\n",
    "labels_H = model_H.labels_"
   ]
  },
  {
   "cell_type": "code",
   "execution_count": 24,
   "id": "31eeb2ce",
   "metadata": {},
   "outputs": [
    {
     "name": "stdout",
     "output_type": "stream",
     "text": [
      "Silhouette_Score Of Hierarchical : 0.19636103941411914\n"
     ]
    }
   ],
   "source": [
    "ss_H =silhouette_score(scaled_df, labels_H)\n",
    "print(f'Silhouette_Score Of Hierarchical : {ss_H}')\n",
    "Without_PCA_SS ={}\n",
    "Without_PCA_SS['Hierarchical']=ss_H"
   ]
  },
  {
   "cell_type": "code",
   "execution_count": 25,
   "id": "fc1f3526",
   "metadata": {},
   "outputs": [
    {
     "data": {
      "text/plain": [
       "Text(0, 0.5, 'Spent')"
      ]
     },
     "execution_count": 25,
     "metadata": {},
     "output_type": "execute_result"
    },
    {
     "data": {
      "image/png": "[encoded data removed]",
      "text/plain": [
       "<Figure size 432x288 with 1 Axes>"
      ]
     },
     "metadata": {
      "needs_background": "light"
     },
     "output_type": "display_data"
    }
   ],
   "source": [
    "F1 = 'Income'\n",
    "F2 = 'Spent'\n",
    "X = scaled_df[[F1,F2]]\n",
    "plt.scatter(X[F1], X[F2])\n",
    "plt.xlabel(F1)\n",
    "plt.ylabel(F2)"
   ]
  },
  {
   "cell_type": "code",
   "execution_count": 26,
   "id": "dfb45622",
   "metadata": {},
   "outputs": [
    {
     "data": {
      "image/png": "[encoded data removed]",
      "text/plain": [
       "<Figure size 432x288 with 1 Axes>"
      ]
     },
     "metadata": {
      "needs_background": "light"
     },
     "output_type": "display_data"
    }
   ],
   "source": [
    "plot_Clusters(X,F1,F2,labels_H,True)"
   ]
  },
  {
   "cell_type": "markdown",
   "id": "68ed7568",
   "metadata": {},
   "source": [
    "## Kmeans"
   ]
  },
  {
   "cell_type": "code",
   "execution_count": 27,
   "id": "150b8dcc",
   "metadata": {},
   "outputs": [],
   "source": [
    "def plot_elbow(d,K_range=range(1, 10)): \n",
    "    distortions = []\n",
    "    K = range(1, 10)\n",
    "    for k in K:\n",
    "        # Building and fitting the model\n",
    "        kmeanModel = KMeans(n_clusters=k).fit(d)\n",
    "        kmeanModel.fit(d)\n",
    "        distortions.append(kmeanModel.inertia_)\n",
    "\n",
    "    plt.plot(K, distortions, 'bx-')\n",
    "    plt.xlabel('Values of K')\n",
    "    plt.ylabel('Inertia')\n",
    "    plt.title('The Elbow Method using Inertia')\n",
    "    plt.show()"
   ]
  },
  {
   "cell_type": "code",
   "execution_count": 28,
   "id": "f7097701",
   "metadata": {},
   "outputs": [
    {
     "data": {
      "image/png": "[encoded data removed]",
      "text/plain": [
       "<Figure size 432x288 with 1 Axes>"
      ]
     },
     "metadata": {
      "needs_background": "light"
     },
     "output_type": "display_data"
    }
   ],
   "source": [
    "plot_elbow(scaled_df)"
   ]
  },
  {
   "cell_type": "code",
   "execution_count": 29,
   "id": "32a5bae7",
   "metadata": {},
   "outputs": [],
   "source": [
    "kmeans = KMeans(n_clusters=3, random_state=0).fit(scaled_df)\n",
    "Km_labels = kmeans.labels_"
   ]
  },
  {
   "cell_type": "code",
   "execution_count": 30,
   "id": "5a52443c",
   "metadata": {},
   "outputs": [
    {
     "name": "stdout",
     "output_type": "stream",
     "text": [
      "Silhouette_Score Of Kmeans : 0.22876818656371703\n"
     ]
    }
   ],
   "source": [
    "ss_kmeans = silhouette_score(scaled_df, Km_labels)\n",
    "print(f'Silhouette_Score Of Kmeans : {ss_kmeans}')\n",
    "Without_PCA_SS['Kmeans']=ss_kmeans"
   ]
  },
  {
   "cell_type": "code",
   "execution_count": 31,
   "id": "8352de2d",
   "metadata": {},
   "outputs": [
    {
     "data": {
      "image/png": "[encoded data removed]",
      "text/plain": [
       "<Figure size 432x288 with 1 Axes>"
      ]
     },
     "metadata": {
      "needs_background": "light"
     },
     "output_type": "display_data"
    }
   ],
   "source": [
    "plot_Clusters(X,F1,F2,Km_labels,True)"
   ]
  },
  {
   "cell_type": "markdown",
   "id": "00802564",
   "metadata": {},
   "source": [
    "## GMM"
   ]
  },
  {
   "cell_type": "code",
   "execution_count": 32,
   "id": "fa2fcd15",
   "metadata": {},
   "outputs": [
    {
     "data": {
      "text/plain": [
       "array([0, 1, 0, ..., 0, 2, 2], dtype=int64)"
      ]
     },
     "execution_count": 32,
     "metadata": {},
     "output_type": "execute_result"
    }
   ],
   "source": [
    "gm = GaussianMixture(n_components=3, random_state=0).fit(scaled_df)\n",
    "gm_labels = gm.predict(scaled_df)\n",
    "gm_labels"
   ]
  },
  {
   "cell_type": "code",
   "execution_count": 33,
   "id": "4c34fab8",
   "metadata": {},
   "outputs": [
    {
     "name": "stdout",
     "output_type": "stream",
     "text": [
      "Silhouette_Score Of GMM : 0.14829833910678059\n"
     ]
    },
    {
     "data": {
      "image/png": "[encoded data removed]",
      "text/plain": [
       "<Figure size 432x288 with 1 Axes>"
      ]
     },
     "metadata": {
      "needs_background": "light"
     },
     "output_type": "display_data"
    }
   ],
   "source": [
    "ss_df_gmm =silhouette_score(scaled_df, gm_labels)\n",
    "print(f'Silhouette_Score Of GMM : {ss_df_gmm}')\n",
    "plot_Clusters(scaled_df,F1,F2,gm_labels,True)\n",
    "Without_PCA_SS['GMM']=ss_df_gmm"
   ]
  },
  {
   "cell_type": "code",
   "execution_count": 34,
   "id": "62d6b072",
   "metadata": {},
   "outputs": [],
   "source": [
    "# dbscan and plot\n",
    "ss_dbscan_dict={}\n",
    "for n in np.arange(0.25,12,0.25):\n",
    "    clustering = DBSCAN(eps=n, min_samples=6).fit(scaled_df)\n",
    "    labels_db = clustering.labels_\n",
    "    if(len(set(labels_db))>2):\n",
    "        ss =silhouette_score(scaled_df, labels_db)\n",
    "        ss_dbscan_dict[n]=ss"
   ]
  },
  {
   "cell_type": "code",
   "execution_count": 35,
   "id": "1eb80837",
   "metadata": {},
   "outputs": [
    {
     "data": {
      "text/plain": [
       "{0.75: -0.2308527370992842,\n",
       " 1.0: -0.18089644519820972,\n",
       " 1.25: -0.1644534303805282,\n",
       " 1.5: 0.008817559852565151,\n",
       " 1.75: -0.02538709482226697,\n",
       " 2.0: 0.13219063367532105,\n",
       " 2.25: -0.004368535019730297,\n",
       " 2.5: 0.21945412704441358,\n",
       " 2.75: 0.13283740508779984,\n",
       " 3.25: 0.26372633915011423}"
      ]
     },
     "execution_count": 35,
     "metadata": {},
     "output_type": "execute_result"
    }
   ],
   "source": [
    "ss_dbscan_dict"
   ]
  },
  {
   "cell_type": "code",
   "execution_count": 36,
   "id": "261be0e6",
   "metadata": {},
   "outputs": [
    {
     "name": "stdout",
     "output_type": "stream",
     "text": [
      "[-1  0  1]\n",
      "[ 231 1976    5]\n",
      "Silhouette_Score Of DBSCAN : 0.26372633915011423\n"
     ]
    }
   ],
   "source": [
    "clustering = DBSCAN(eps=3.25, min_samples=6).fit(scaled_df)\n",
    "labels_dbscan = clustering.labels_\n",
    "values, counts = np.unique(labels_dbscan, return_counts=True)\n",
    "print(values)\n",
    "print(counts)\n",
    "ss_db =silhouette_score(scaled_df, labels_dbscan)\n",
    "print(f'Silhouette_Score Of DBSCAN : {ss_db}')"
   ]
  },
  {
   "cell_type": "code",
   "execution_count": 37,
   "id": "08e138f2",
   "metadata": {
    "scrolled": true
   },
   "outputs": [
    {
     "data": {
      "image/png": "[encoded data removed]",
      "text/plain": [
       "<Figure size 432x288 with 1 Axes>"
      ]
     },
     "metadata": {
      "needs_background": "light"
     },
     "output_type": "display_data"
    }
   ],
   "source": [
    "plot_Clusters(X,F1,F2,labels_dbscan,True)"
   ]
  },
  {
   "cell_type": "code",
   "execution_count": 38,
   "id": "917164d9",
   "metadata": {},
   "outputs": [
    {
     "data": {
      "text/plain": [
       "{'Hierarchical': 0.19636103941411914,\n",
       " 'Kmeans': 0.22876818656371703,\n",
       " 'GMM': 0.14829833910678059}"
      ]
     },
     "execution_count": 38,
     "metadata": {},
     "output_type": "execute_result"
    }
   ],
   "source": [
    "Without_PCA_SS"
   ]
  },
  {
   "cell_type": "markdown",
   "id": "c4e7c1c7",
   "metadata": {},
   "source": [
    "## Applying PCA"
   ]
  },
  {
   "cell_type": "code",
   "execution_count": 39,
   "id": "e60486c3",
   "metadata": {},
   "outputs": [
    {
     "data": {
      "text/plain": [
       "array([0.39392705, 0.49819346, 0.56117144, 0.61859947, 0.67024519,\n",
       "       0.72179495, 0.76427836, 0.79956   , 0.83326575, 0.86599215,\n",
       "       0.88912506, 0.91144378, 0.93227889, 0.95095602, 0.96646514,\n",
       "       0.97893917, 0.99070863, 1.        , 1.        ])"
      ]
     },
     "execution_count": 39,
     "metadata": {},
     "output_type": "execute_result"
    }
   ],
   "source": [
    "pca = PCA()\n",
    "pca.fit(scaled_df)\n",
    "cumsum = np.cumsum(pca.explained_variance_ratio_)\n",
    "cumsum"
   ]
  },
  {
   "cell_type": "code",
   "execution_count": null,
   "id": "f374ef6d",
   "metadata": {},
   "outputs": [],
   "source": []
  },
  {
   "cell_type": "code",
   "execution_count": 40,
   "id": "90025101",
   "metadata": {},
   "outputs": [
    {
     "data": {
      "text/plain": [
       "14"
      ]
     },
     "execution_count": 40,
     "metadata": {},
     "output_type": "execute_result"
    }
   ],
   "source": [
    "best_dim = np.argmax(cumsum >= 0.95) + 1\n",
    "best_dim"
   ]
  },
  {
   "cell_type": "code",
   "execution_count": 41,
   "id": "4972de1d",
   "metadata": {},
   "outputs": [
    {
     "data": {
      "text/html": [
       "<div>\n",
       "<style scoped>\n",
       "    .dataframe tbody tr th:only-of-type {\n",
       "        vertical-align: middle;\n",
       "    }\n",
       "\n",
       "    .dataframe tbody tr th {\n",
       "        vertical-align: top;\n",
       "    }\n",
       "\n",
       "    .dataframe thead th {\n",
       "        text-align: right;\n",
       "    }\n",
       "</style>\n",
       "<table border=\"1\" class=\"dataframe\">\n",
       "  <thead>\n",
       "    <tr style=\"text-align: right;\">\n",
       "      <th></th>\n",
       "      <th>count</th>\n",
       "      <th>mean</th>\n",
       "      <th>std</th>\n",
       "      <th>min</th>\n",
       "      <th>25%</th>\n",
       "      <th>50%</th>\n",
       "      <th>75%</th>\n",
       "      <th>max</th>\n",
       "    </tr>\n",
       "  </thead>\n",
       "  <tbody>\n",
       "    <tr>\n",
       "      <th>PCA1</th>\n",
       "      <td>2212.0</td>\n",
       "      <td>4.938786e-17</td>\n",
       "      <td>2.736421</td>\n",
       "      <td>-5.432593</td>\n",
       "      <td>-2.446073</td>\n",
       "      <td>-0.872448</td>\n",
       "      <td>2.301890</td>\n",
       "      <td>7.847859</td>\n",
       "    </tr>\n",
       "    <tr>\n",
       "      <th>PCA2</th>\n",
       "      <td>2212.0</td>\n",
       "      <td>1.360174e-17</td>\n",
       "      <td>1.407820</td>\n",
       "      <td>-3.383155</td>\n",
       "      <td>-1.001586</td>\n",
       "      <td>-0.207425</td>\n",
       "      <td>0.907463</td>\n",
       "      <td>5.611331</td>\n",
       "    </tr>\n",
       "    <tr>\n",
       "      <th>PCA3</th>\n",
       "      <td>2212.0</td>\n",
       "      <td>2.429240e-17</td>\n",
       "      <td>1.094131</td>\n",
       "      <td>-3.108025</td>\n",
       "      <td>-0.681061</td>\n",
       "      <td>-0.109939</td>\n",
       "      <td>0.554886</td>\n",
       "      <td>5.169846</td>\n",
       "    </tr>\n",
       "    <tr>\n",
       "      <th>PCA4</th>\n",
       "      <td>2212.0</td>\n",
       "      <td>8.933983e-18</td>\n",
       "      <td>1.044809</td>\n",
       "      <td>-4.022567</td>\n",
       "      <td>-0.735593</td>\n",
       "      <td>0.000553</td>\n",
       "      <td>0.722410</td>\n",
       "      <td>4.660266</td>\n",
       "    </tr>\n",
       "    <tr>\n",
       "      <th>PCA5</th>\n",
       "      <td>2212.0</td>\n",
       "      <td>2.614319e-17</td>\n",
       "      <td>0.990814</td>\n",
       "      <td>-2.902182</td>\n",
       "      <td>-0.766021</td>\n",
       "      <td>-0.085619</td>\n",
       "      <td>0.566569</td>\n",
       "      <td>3.829617</td>\n",
       "    </tr>\n",
       "    <tr>\n",
       "      <th>PCA6</th>\n",
       "      <td>2212.0</td>\n",
       "      <td>2.572284e-17</td>\n",
       "      <td>0.989893</td>\n",
       "      <td>-2.484289</td>\n",
       "      <td>-0.766499</td>\n",
       "      <td>0.012415</td>\n",
       "      <td>0.762023</td>\n",
       "      <td>2.621978</td>\n",
       "    </tr>\n",
       "    <tr>\n",
       "      <th>PCA7</th>\n",
       "      <td>2212.0</td>\n",
       "      <td>2.509546e-19</td>\n",
       "      <td>0.898638</td>\n",
       "      <td>-4.511657</td>\n",
       "      <td>-0.456576</td>\n",
       "      <td>0.080104</td>\n",
       "      <td>0.560362</td>\n",
       "      <td>6.166515</td>\n",
       "    </tr>\n",
       "    <tr>\n",
       "      <th>PCA8</th>\n",
       "      <td>2212.0</td>\n",
       "      <td>-5.420619e-18</td>\n",
       "      <td>0.818935</td>\n",
       "      <td>-2.768830</td>\n",
       "      <td>-0.525079</td>\n",
       "      <td>-0.011775</td>\n",
       "      <td>0.492572</td>\n",
       "      <td>3.416962</td>\n",
       "    </tr>\n",
       "    <tr>\n",
       "      <th>PCA9</th>\n",
       "      <td>2212.0</td>\n",
       "      <td>1.183251e-17</td>\n",
       "      <td>0.800437</td>\n",
       "      <td>-3.399362</td>\n",
       "      <td>-0.420025</td>\n",
       "      <td>-0.075489</td>\n",
       "      <td>0.375000</td>\n",
       "      <td>10.547608</td>\n",
       "    </tr>\n",
       "    <tr>\n",
       "      <th>PCA10</th>\n",
       "      <td>2212.0</td>\n",
       "      <td>9.624108e-18</td>\n",
       "      <td>0.788722</td>\n",
       "      <td>-3.733487</td>\n",
       "      <td>-0.421393</td>\n",
       "      <td>-0.048501</td>\n",
       "      <td>0.349170</td>\n",
       "      <td>4.095659</td>\n",
       "    </tr>\n",
       "    <tr>\n",
       "      <th>PCA11</th>\n",
       "      <td>2212.0</td>\n",
       "      <td>-1.206778e-17</td>\n",
       "      <td>0.663117</td>\n",
       "      <td>-3.472187</td>\n",
       "      <td>-0.283526</td>\n",
       "      <td>0.000968</td>\n",
       "      <td>0.267159</td>\n",
       "      <td>5.936446</td>\n",
       "    </tr>\n",
       "    <tr>\n",
       "      <th>PCA12</th>\n",
       "      <td>2212.0</td>\n",
       "      <td>1.395307e-17</td>\n",
       "      <td>0.651343</td>\n",
       "      <td>-2.607633</td>\n",
       "      <td>-0.327739</td>\n",
       "      <td>0.020758</td>\n",
       "      <td>0.324603</td>\n",
       "      <td>5.106937</td>\n",
       "    </tr>\n",
       "    <tr>\n",
       "      <th>PCA13</th>\n",
       "      <td>2212.0</td>\n",
       "      <td>5.505316e-18</td>\n",
       "      <td>0.629322</td>\n",
       "      <td>-3.562769</td>\n",
       "      <td>-0.182558</td>\n",
       "      <td>-0.003839</td>\n",
       "      <td>0.205841</td>\n",
       "      <td>3.681979</td>\n",
       "    </tr>\n",
       "    <tr>\n",
       "      <th>PCA14</th>\n",
       "      <td>2212.0</td>\n",
       "      <td>-3.510227e-17</td>\n",
       "      <td>0.595841</td>\n",
       "      <td>-3.010819</td>\n",
       "      <td>-0.292231</td>\n",
       "      <td>0.014169</td>\n",
       "      <td>0.320608</td>\n",
       "      <td>3.283990</td>\n",
       "    </tr>\n",
       "  </tbody>\n",
       "</table>\n",
       "</div>"
      ],
      "text/plain": [
       "        count          mean       std       min       25%       50%       75%  \\\n",
       "PCA1   2212.0  4.938786e-17  2.736421 -5.432593 -2.446073 -0.872448  2.301890   \n",
       "PCA2   2212.0  1.360174e-17  1.407820 -3.383155 -1.001586 -0.207425  0.907463   \n",
       "PCA3   2212.0  2.429240e-17  1.094131 -3.108025 -0.681061 -0.109939  0.554886   \n",
       "PCA4   2212.0  8.933983e-18  1.044809 -4.022567 -0.735593  0.000553  0.722410   \n",
       "PCA5   2212.0  2.614319e-17  0.990814 -2.902182 -0.766021 -0.085619  0.566569   \n",
       "PCA6   2212.0  2.572284e-17  0.989893 -2.484289 -0.766499  0.012415  0.762023   \n",
       "PCA7   2212.0  2.509546e-19  0.898638 -4.511657 -0.456576  0.080104  0.560362   \n",
       "PCA8   2212.0 -5.420619e-18  0.818935 -2.768830 -0.525079 -0.011775  0.492572   \n",
       "PCA9   2212.0  1.183251e-17  0.800437 -3.399362 -0.420025 -0.075489  0.375000   \n",
       "PCA10  2212.0  9.624108e-18  0.788722 -3.733487 -0.421393 -0.048501  0.349170   \n",
       "PCA11  2212.0 -1.206778e-17  0.663117 -3.472187 -0.283526  0.000968  0.267159   \n",
       "PCA12  2212.0  1.395307e-17  0.651343 -2.607633 -0.327739  0.020758  0.324603   \n",
       "PCA13  2212.0  5.505316e-18  0.629322 -3.562769 -0.182558 -0.003839  0.205841   \n",
       "PCA14  2212.0 -3.510227e-17  0.595841 -3.010819 -0.292231  0.014169  0.320608   \n",
       "\n",
       "             max  \n",
       "PCA1    7.847859  \n",
       "PCA2    5.611331  \n",
       "PCA3    5.169846  \n",
       "PCA4    4.660266  \n",
       "PCA5    3.829617  \n",
       "PCA6    2.621978  \n",
       "PCA7    6.166515  \n",
       "PCA8    3.416962  \n",
       "PCA9   10.547608  \n",
       "PCA10   4.095659  \n",
       "PCA11   5.936446  \n",
       "PCA12   5.106937  \n",
       "PCA13   3.681979  \n",
       "PCA14   3.283990  "
      ]
     },
     "execution_count": 41,
     "metadata": {},
     "output_type": "execute_result"
    }
   ],
   "source": [
    "#Initiating PCA to reduce dimentions  \n",
    "pca = PCA(n_components=best_dim)\n",
    "pca.fit(scaled_df)\n",
    "#\n",
    "cols=[]\n",
    "for i in np.arange(best_dim):\n",
    "    cols.append('PCA' + str(i+1))\n",
    "#\n",
    "PCA_df = pd.DataFrame(pca.transform(scaled_df), columns=(cols))\n",
    "PCA_df.describe().T"
   ]
  },
  {
   "cell_type": "markdown",
   "id": "7af17783",
   "metadata": {},
   "source": [
    "## Hierarchical"
   ]
  },
  {
   "cell_type": "code",
   "execution_count": 42,
   "id": "a03e0b42",
   "metadata": {},
   "outputs": [
    {
     "data": {
      "image/png": "[encoded data removed]",
      "text/plain": [
       "<Figure size 720x504 with 1 Axes>"
      ]
     },
     "metadata": {
      "needs_background": "light"
     },
     "output_type": "display_data"
    }
   ],
   "source": [
    "import scipy.cluster.hierarchy as shc\n",
    "\n",
    "plt.figure(figsize=(10, 7))\n",
    "plt.title(\"Counters Dendograms\")\n",
    "dend = shc.dendrogram(shc.linkage(y=PCA_df , method='ward',metric='euclidean'))"
   ]
  },
  {
   "cell_type": "code",
   "execution_count": 43,
   "id": "2827b08d",
   "metadata": {},
   "outputs": [
    {
     "name": "stdout",
     "output_type": "stream",
     "text": [
      "[0 1 2]\n",
      "[ 603 1050  559]\n"
     ]
    }
   ],
   "source": [
    "model = AgglomerativeClustering(n_clusters=3)\n",
    "model = model.fit(PCA_df)\n",
    "labels_PCA_H = model.labels_\n",
    "values, counts = np.unique(labels_PCA_H, return_counts=True)\n",
    "print(values)\n",
    "print(counts)"
   ]
  },
  {
   "cell_type": "code",
   "execution_count": 44,
   "id": "1fd16cf2",
   "metadata": {},
   "outputs": [
    {
     "data": {
      "text/plain": [
       "<matplotlib.collections.PathCollection at 0x1879abd92b0>"
      ]
     },
     "execution_count": 44,
     "metadata": {},
     "output_type": "execute_result"
    },
    {
     "data": {
      "image/png": "[encoded data removed]",
      "text/plain": [
       "<Figure size 432x288 with 1 Axes>"
      ]
     },
     "metadata": {
      "needs_background": "light"
     },
     "output_type": "display_data"
    }
   ],
   "source": [
    "F1 = 'PCA7'\n",
    "F2 = 'PCA10'\n",
    "X = PCA_df[[F1,F2]]\n",
    "plt.scatter(X[F1], X[F2])"
   ]
  },
  {
   "cell_type": "code",
   "execution_count": 45,
   "id": "fede677e",
   "metadata": {},
   "outputs": [
    {
     "data": {
      "image/png": "[encoded data removed]",
      "text/plain": [
       "<Figure size 432x288 with 1 Axes>"
      ]
     },
     "metadata": {
      "needs_background": "light"
     },
     "output_type": "display_data"
    }
   ],
   "source": [
    "plot_Clusters(X,F1,F2,labels_PCA_H,True)"
   ]
  },
  {
   "cell_type": "code",
   "execution_count": 46,
   "id": "ea82dd12",
   "metadata": {},
   "outputs": [
    {
     "name": "stdout",
     "output_type": "stream",
     "text": [
      "Silhouette_Score Of Hierarchical : 0.20683258030549279\n"
     ]
    }
   ],
   "source": [
    "ss_PCA_H =silhouette_score(PCA_df, labels_PCA_H)\n",
    "With_PCA_SS={}\n",
    "With_PCA_SS['Hierarchical'] = ss_PCA_H\n",
    "print(f'Silhouette_Score Of Hierarchical : {ss_PCA_H}')"
   ]
  },
  {
   "cell_type": "markdown",
   "id": "de68e2fc",
   "metadata": {},
   "source": [
    "## Kmeans"
   ]
  },
  {
   "cell_type": "code",
   "execution_count": 47,
   "id": "fbe0deff",
   "metadata": {},
   "outputs": [
    {
     "data": {
      "image/png": "[encoded data removed]",
      "text/plain": [
       "<Figure size 432x288 with 1 Axes>"
      ]
     },
     "metadata": {
      "needs_background": "light"
     },
     "output_type": "display_data"
    }
   ],
   "source": [
    "plot_elbow(PCA_df)"
   ]
  },
  {
   "cell_type": "code",
   "execution_count": 48,
   "id": "3ec45e9a",
   "metadata": {},
   "outputs": [
    {
     "name": "stdout",
     "output_type": "stream",
     "text": [
      "[0 1 2]\n",
      "[ 525 1087  600]\n"
     ]
    }
   ],
   "source": [
    "kmeans = KMeans(n_clusters=3, random_state=0).fit(PCA_df)\n",
    "values, counts = np.unique(kmeans.labels_, return_counts=True)\n",
    "print(values)\n",
    "print(counts)"
   ]
  },
  {
   "cell_type": "code",
   "execution_count": 49,
   "id": "e55f0742",
   "metadata": {},
   "outputs": [
    {
     "name": "stdout",
     "output_type": "stream",
     "text": [
      "Silhouette_Score Of Kmeans : 0.24064943001113315\n"
     ]
    }
   ],
   "source": [
    "ss_PCA_kmeans =silhouette_score(PCA_df, kmeans.labels_)\n",
    "print(f'Silhouette_Score Of Kmeans : {ss_PCA_kmeans}')\n",
    "With_PCA_SS['Kmeans'] = ss_PCA_kmeans\n"
   ]
  },
  {
   "cell_type": "code",
   "execution_count": 50,
   "id": "01ad4a93",
   "metadata": {},
   "outputs": [
    {
     "data": {
      "image/png": "[encoded data removed]",
      "text/plain": [
       "<Figure size 432x288 with 1 Axes>"
      ]
     },
     "metadata": {
      "needs_background": "light"
     },
     "output_type": "display_data"
    }
   ],
   "source": [
    "plot_Clusters(X,F1,F2,kmeans.labels_,True)"
   ]
  },
  {
   "cell_type": "markdown",
   "id": "fbea9567",
   "metadata": {},
   "source": [
    "## GMM"
   ]
  },
  {
   "cell_type": "code",
   "execution_count": 51,
   "id": "747968b1",
   "metadata": {},
   "outputs": [
    {
     "name": "stdout",
     "output_type": "stream",
     "text": [
      "[0 1 2]\n",
      "[829 774 609]\n"
     ]
    }
   ],
   "source": [
    "gm = GaussianMixture(n_components=3, random_state=0).fit(PCA_df)\n",
    "gm_labels = gm.predict(PCA_df)\n",
    "values, counts = np.unique(gm_labels, return_counts=True)\n",
    "print(values)\n",
    "print(counts)"
   ]
  },
  {
   "cell_type": "code",
   "execution_count": 52,
   "id": "9b67c6e8",
   "metadata": {},
   "outputs": [
    {
     "name": "stdout",
     "output_type": "stream",
     "text": [
      "Silhouette_Score Of GMM : 0.13186225701478257\n"
     ]
    },
    {
     "data": {
      "image/png": "[encoded data removed]",
      "text/plain": [
       "<Figure size 432x288 with 1 Axes>"
      ]
     },
     "metadata": {
      "needs_background": "light"
     },
     "output_type": "display_data"
    }
   ],
   "source": [
    "ss_PCA_df_gmm =silhouette_score(PCA_df, gm_labels)\n",
    "print(f'Silhouette_Score Of GMM : {ss_PCA_df_gmm}')\n",
    "With_PCA_SS['GMM'] = ss_PCA_df_gmm\n",
    "plot_Clusters(PCA_df,F1,F2,gm_labels,True)"
   ]
  },
  {
   "cell_type": "code",
   "execution_count": 53,
   "id": "910c0048",
   "metadata": {},
   "outputs": [],
   "source": [
    "# dbscan and plot\n",
    "ss_dict={}\n",
    "for n in np.arange(0.25,12,0.25):\n",
    "    clustering = DBSCAN(eps=n, min_samples=6).fit(PCA_df)\n",
    "    labels_db = clustering.labels_\n",
    "    if(len(set(labels_db))>2):\n",
    "        ss =silhouette_score(PCA_df, labels_db)\n",
    "        ss_dict[n]=ss"
   ]
  },
  {
   "cell_type": "code",
   "execution_count": 54,
   "id": "ad0ce8b2",
   "metadata": {},
   "outputs": [
    {
     "data": {
      "text/plain": [
       "{0.75: -0.23550174303538193,\n",
       " 1.0: -0.09952550471336404,\n",
       " 1.25: -0.1078539639367972,\n",
       " 1.5: 0.03684454651423367,\n",
       " 1.75: 0.03615290946465005,\n",
       " 2.25: 0.16349855879819092,\n",
       " 2.75: 0.1334967220596524,\n",
       " 3.0: 0.26645497835569093}"
      ]
     },
     "execution_count": 54,
     "metadata": {},
     "output_type": "execute_result"
    }
   ],
   "source": [
    "ss_dict"
   ]
  },
  {
   "cell_type": "code",
   "execution_count": 55,
   "id": "e1f1afd4",
   "metadata": {},
   "outputs": [
    {
     "name": "stdout",
     "output_type": "stream",
     "text": [
      "[-1  0  1]\n",
      "[ 199 2008    5]\n",
      "Silhouette_Score Of DBSCAN : 0.26645497835569093\n"
     ]
    }
   ],
   "source": [
    "clustering = DBSCAN(eps=3, min_samples=6).fit(PCA_df)\n",
    "labels_db = clustering.labels_\n",
    "values, counts = np.unique(labels_db, return_counts=True)\n",
    "print(values)\n",
    "print(counts)\n",
    "ss_PCA_dbscan =silhouette_score(PCA_df, labels_db)\n",
    "print(f'Silhouette_Score Of DBSCAN : {ss_PCA_dbscan}')"
   ]
  },
  {
   "cell_type": "code",
   "execution_count": 56,
   "id": "85d1dbef",
   "metadata": {
    "scrolled": true
   },
   "outputs": [
    {
     "data": {
      "image/png": "[encoded data removed]",
      "text/plain": [
       "<Figure size 432x288 with 1 Axes>"
      ]
     },
     "metadata": {
      "needs_background": "light"
     },
     "output_type": "display_data"
    }
   ],
   "source": [
    "plot_Clusters(X,F1,F2,labels_db,True)"
   ]
  },
  {
   "cell_type": "code",
   "execution_count": 57,
   "id": "312d9959",
   "metadata": {},
   "outputs": [
    {
     "data": {
      "text/plain": [
       "{'Hierarchical': 0.20683258030549279,\n",
       " 'Kmeans': 0.24064943001113315,\n",
       " 'GMM': 0.13186225701478257}"
      ]
     },
     "execution_count": 57,
     "metadata": {},
     "output_type": "execute_result"
    }
   ],
   "source": [
    "With_PCA_SS"
   ]
  },
  {
   "cell_type": "code",
   "execution_count": null,
   "id": "3d9a3129",
   "metadata": {},
   "outputs": [],
   "source": []
  }
 ],
 "metadata": {
  "kernelspec": {
   "display_name": "Python 3 (ipykernel)",
   "language": "python",
   "name": "python3"
  },
  "language_info": {
   "codemirror_mode": {
    "name": "ipython",
    "version": 3
   },
   "file_extension": ".py",
   "mimetype": "text/x-python",
   "name": "python",
   "nbconvert_exporter": "python",
   "pygments_lexer": "ipython3",
   "version": "3.9.7"
  }
 },
 "nbformat": 4,
 "nbformat_minor": 5
}
